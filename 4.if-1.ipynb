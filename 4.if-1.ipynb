{
 "cells": [
  {
   "cell_type": "markdown",
   "id": "27054994",
   "metadata": {},
   "source": [
    "## 시험 합격 여부"
   ]
  },
  {
   "cell_type": "code",
   "execution_count": 18,
   "id": "4fc424de",
   "metadata": {},
   "outputs": [
    {
     "name": "stdout",
     "output_type": "stream",
     "text": [
      "Pass\n"
     ]
    }
   ],
   "source": [
    "score = 70\n",
    "cutoff = 50\n",
    "\n",
    "if score > cutoff:\n",
    "    print('Pass')\n",
    "else:\n",
    "    print('Fail')"
   ]
  },
  {
   "cell_type": "markdown",
   "id": "d9c66066",
   "metadata": {},
   "source": [
    "## 홀수/짝수구분하기"
   ]
  },
  {
   "cell_type": "code",
   "execution_count": 14,
   "id": "8a6f2e01",
   "metadata": {},
   "outputs": [
    {
     "name": "stdout",
     "output_type": "stream",
     "text": [
      "Oven!\n"
     ]
    }
   ],
   "source": [
    "number = 11\n",
    "if number % 2 == 0:\n",
    "    print('Even!')\n",
    "else:\n",
    "    print('Oven!')"
   ]
  },
  {
   "cell_type": "markdown",
   "id": "7f3fb0bc",
   "metadata": {},
   "source": [
    "## 두수 비교하기"
   ]
  },
  {
   "cell_type": "code",
   "execution_count": 16,
   "id": "dcbd35d4",
   "metadata": {},
   "outputs": [
    {
     "name": "stdout",
     "output_type": "stream",
     "text": [
      "What's the bigger number? second number\n"
     ]
    }
   ],
   "source": [
    "num1,num2 = 50,70\n",
    "\n",
    "print(\"What's the bigger number?\",end= ' ')\n",
    "if num1>num2:\n",
    "    print('first number')\n",
    "elif num1 == num2:\n",
    "    print('equal')\n",
    "else:\n",
    "    print('second number')"
   ]
  },
  {
   "cell_type": "markdown",
   "id": "719a4968",
   "metadata": {},
   "source": [
    "## 학점 부여하기"
   ]
  },
  {
   "cell_type": "code",
   "execution_count": 19,
   "id": "0b75bac9",
   "metadata": {},
   "outputs": [
    {
     "name": "stdout",
     "output_type": "stream",
     "text": [
      "grade: B\n"
     ]
    }
   ],
   "source": [
    "score = 70\n",
    "\n",
    "if score >= 80:\n",
    "    grade = 'A'\n",
    "elif score >= 60:\n",
    "    grade = 'B'\n",
    "elif score >= 40:\n",
    "    grade = 'C'\n",
    "elif score >= 20:\n",
    "    grade = 'D'\n",
    "else:\n",
    "    grade = 'F'\n",
    "\n",
    "print('grade:',grade)"
   ]
  }
 ],
 "metadata": {
  "kernelspec": {
   "display_name": "Python 3",
   "language": "python",
   "name": "python3"
  },
  "language_info": {
   "codemirror_mode": {
    "name": "ipython",
    "version": 3
   },
   "file_extension": ".py",
   "mimetype": "text/x-python",
   "name": "python",
   "nbconvert_exporter": "python",
   "pygments_lexer": "ipython3",
   "version": "3.8.0"
  }
 },
 "nbformat": 4,
 "nbformat_minor": 5
}
