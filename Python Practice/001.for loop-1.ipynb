{
 "cells": [
  {
   "cell_type": "markdown",
   "id": "e65c942c",
   "metadata": {},
   "source": [
    "# mean"
   ]
  },
  {
   "cell_type": "code",
   "execution_count": 1,
   "id": "ff2f353b",
   "metadata": {},
   "outputs": [
    {
     "name": "stdout",
     "output_type": "stream",
     "text": [
      "the mean of a subject:  20.0\n"
     ]
    }
   ],
   "source": [
    "scores = [10,20,30] \n",
    "n_student = len(scores)\n",
    "\n",
    "score_sum = 0\n",
    "\n",
    "for score in scores:\n",
    "    score_sum += score\n",
    "\n",
    "mean = score_sum/n_student\n",
    "print('the mean of a subject: ',mean)"
   ]
  },
  {
   "cell_type": "markdown",
   "id": "97aa055b",
   "metadata": {},
   "source": [
    "## variance,std"
   ]
  },
  {
   "cell_type": "code",
   "execution_count": 5,
   "id": "3e27f790",
   "metadata": {},
   "outputs": [
    {
     "name": "stdout",
     "output_type": "stream",
     "text": [
      "mean: 35.0,variance: 291.66666666666674,std: 17.07825127659933\n"
     ]
    }
   ],
   "source": [
    "scores = [10,20,30,40,50,60]\n",
    "n_student = len(scores)\n",
    "\n",
    "score_sum = 0\n",
    "score_square_sum =0\n",
    "\n",
    "for score in scores:\n",
    "    score_sum += score\n",
    "    score_square_sum += score**2\n",
    "\n",
    "mean = score_sum/n_student\n",
    "\n",
    "variance = score_square_sum/n_student - mean**2\n",
    "std = variance**0.5\n",
    "\n",
    "print('mean: {},variance: {},std: {}'.format(mean,variance,std))"
   ]
  }
 ],
 "metadata": {
  "kernelspec": {
   "display_name": "Python 3",
   "language": "python",
   "name": "python3"
  },
  "language_info": {
   "codemirror_mode": {
    "name": "ipython",
    "version": 3
   },
   "file_extension": ".py",
   "mimetype": "text/x-python",
   "name": "python",
   "nbconvert_exporter": "python",
   "pygments_lexer": "ipython3",
   "version": "3.8.0"
  }
 },
 "nbformat": 4,
 "nbformat_minor": 5
}
