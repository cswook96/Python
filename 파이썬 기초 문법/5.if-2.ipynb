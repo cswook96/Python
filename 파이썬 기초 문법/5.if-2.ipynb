{
  "nbformat": 4,
  "nbformat_minor": 0,
  "metadata": {
    "colab": {
      "name": "5.if-2.ipynb",
      "provenance": [],
      "collapsed_sections": []
    },
    "kernelspec": {
      "name": "python3",
      "display_name": "Python 3"
    },
    "language_info": {
      "name": "python"
    }
  },
  "cells": [
    {
      "cell_type": "markdown",
      "metadata": {
        "id": "8K9WvS35Jbno"
      },
      "source": [
        "# if,for 함께사용"
      ]
    },
    {
      "cell_type": "markdown",
      "metadata": {
        "id": "KqQuzMaPH7xw"
      },
      "source": [
        "## 합격/불합격"
      ]
    },
    {
      "cell_type": "code",
      "metadata": {
        "colab": {
          "base_uri": "https://localhost:8080/"
        },
        "id": "1TilyBLz90nK",
        "outputId": "6c6f16de-5910-4c1b-bf78-ee3968aebbf7"
      },
      "source": [
        "scores = [50,10,20,60,70]\n",
        "cutoff = 50\n",
        "\n",
        "for student_idx in range(len(scores)):\n",
        "    if scores[student_idx] >= cutoff:\n",
        "        print('student{}:Pass'.format(student_idx))\n",
        "    else:\n",
        "        print('student{}:Fail'.format(student_idx))"
      ],
      "execution_count": 1,
      "outputs": [
        {
          "output_type": "stream",
          "text": [
            "student0:Pass\n",
            "student1:Fail\n",
            "student2:Fail\n",
            "student3:Pass\n",
            "student4:Pass\n"
          ],
          "name": "stdout"
        }
      ]
    },
    {
      "cell_type": "markdown",
      "metadata": {
        "id": "IYe1xqZZIzjw"
      },
      "source": [
        "## 점수를 학점으로 변환"
      ]
    },
    {
      "cell_type": "code",
      "metadata": {
        "colab": {
          "base_uri": "https://localhost:8080/"
        },
        "id": "CDe6L10PJmZt",
        "outputId": "0e06730d-0635-4140-9351-24431ed8e697"
      },
      "source": [
        "scores = [20,50,10,60,90]\n",
        "grades = []\n",
        "\n",
        "for score in scores:\n",
        "    if score >= 80:\n",
        "        grades.append('A')\n",
        "    elif score >= 60:\n",
        "        grades.append('B')\n",
        "    elif score >= 40:\n",
        "        grades.append('C')\n",
        "    elif score >= 20:\n",
        "        grades.append('D')\n",
        "    else:\n",
        "        grades.append('F')\n",
        "\n",
        "for student_idx in range(len(grades)):\n",
        "    print('student{} grade:{}'.format(student_idx,grades[student_idx]))"
      ],
      "execution_count": 2,
      "outputs": [
        {
          "output_type": "stream",
          "text": [
            "student0 grade:D\n",
            "student1 grade:C\n",
            "student2 grade:F\n",
            "student3 grade:B\n",
            "student4 grade:A\n"
          ],
          "name": "stdout"
        }
      ]
    },
    {
      "cell_type": "markdown",
      "metadata": {
        "id": "lqX_oIISKh0g"
      },
      "source": [
        "## 합격/불합격 그룹 평균 구하기"
      ]
    },
    {
      "cell_type": "code",
      "metadata": {
        "colab": {
          "base_uri": "https://localhost:8080/"
        },
        "id": "H-PrbZJlLmPp",
        "outputId": "d29c029e-3ef7-4031-b90f-79921b5c35f8"
      },
      "source": [
        "scores = [20,50,10,60,90]\n",
        "cutoff = 50\n",
        "\n",
        "pass_score_sum,n_pass = 0,0\n",
        "fail_score_sum,n_fail = 0,0\n",
        "\n",
        "for score in scores:\n",
        "    if score >= cutoff:\n",
        "        pass_score_sum += score\n",
        "        n_pass += 1\n",
        "    else:\n",
        "        fail_score_sum += score\n",
        "        n_fail += 1\n",
        "\n",
        "pass_score_mean = pass_score_sum/n_pass\n",
        "fail_score_mean = fail_score_sum/n_fail\n",
        "\n",
        "print('mean of passed scores: ',pass_score_mean)\n",
        "print('mean of failed scores: ',fail_score_mean)"
      ],
      "execution_count": 3,
      "outputs": [
        {
          "output_type": "stream",
          "text": [
            "mean of passed scores:  66.66666666666667\n",
            "mean of failed scores:  15.0\n"
          ],
          "name": "stdout"
        }
      ]
    },
    {
      "cell_type": "markdown",
      "metadata": {
        "id": "17AcS8ECMcRj"
      },
      "source": [
        "## 홀수/짝수 구분하기"
      ]
    },
    {
      "cell_type": "code",
      "metadata": {
        "colab": {
          "base_uri": "https://localhost:8080/"
        },
        "id": "JKU3ZSi_NQqS",
        "outputId": "cb6c4e7a-e9e7-48e9-935e-78a69baf1526"
      },
      "source": [
        "numbers = []\n",
        "for num in range(10):\n",
        "    numbers.append(num)\n",
        "numbers.append(3.14)\n",
        "\n",
        "print('numbers: ',numbers)\n",
        "\n",
        "for num in numbers:\n",
        "    if num % 2 == 0:\n",
        "        print('{} --> Even Number'.format(num))\n",
        "    elif num % 2 == 1:\n",
        "        print('{} --> Odd Number'.format(num))\n",
        "    else:\n",
        "        print('{} --> Not an Integer'.format(num))"
      ],
      "execution_count": 4,
      "outputs": [
        {
          "output_type": "stream",
          "text": [
            "numbers:  [0, 1, 2, 3, 4, 5, 6, 7, 8, 9, 3.14]\n",
            "0 --> Even Number\n",
            "1 --> Odd Number\n",
            "2 --> Even Number\n",
            "3 --> Odd Number\n",
            "4 --> Even Number\n",
            "5 --> Odd Number\n",
            "6 --> Even Number\n",
            "7 --> Odd Number\n",
            "8 --> Even Number\n",
            "9 --> Odd Number\n",
            "3.14 --> Not an Integer\n"
          ],
          "name": "stdout"
        }
      ]
    },
    {
      "cell_type": "markdown",
      "metadata": {
        "id": "mrmaVHQ_N1sR"
      },
      "source": [
        "## n배수들의 합 구하기"
      ]
    },
    {
      "cell_type": "code",
      "metadata": {
        "colab": {
          "base_uri": "https://localhost:8080/"
        },
        "id": "6N0jV7XgPk3j",
        "outputId": "43ee4329-f410-432b-ac3b-e55d325fe40b"
      },
      "source": [
        "multiple_of = 5\n",
        "sum_multiple_of_n = 0\n",
        "\n",
        "for num in range(100):\n",
        "    if num % multiple_of == 0:\n",
        "        sum_multiple_of_n += num\n",
        "\n",
        "print('sum_multiple_of_n: ',sum_multiple_of_n)"
      ],
      "execution_count": 5,
      "outputs": [
        {
          "output_type": "stream",
          "text": [
            "sum_multiple_of_n:  950\n"
          ],
          "name": "stdout"
        }
      ]
    },
    {
      "cell_type": "markdown",
      "metadata": {
        "id": "z0VXCH06RAiX"
      },
      "source": [
        "## 최댓값/최솟값 구하기"
      ]
    },
    {
      "cell_type": "code",
      "metadata": {
        "colab": {
          "base_uri": "https://localhost:8080/"
        },
        "id": "vYgSn0CPTlNC",
        "outputId": "6442e891-2953-4516-84ea-7c53cf2ba451"
      },
      "source": [
        "scores = [60,40,70,20,90]\n",
        "M,m = scores[0],scores[0]\n",
        "\n",
        "for score in scores:\n",
        "    if score > M:\n",
        "        M = score\n",
        "    if score < m:\n",
        "        m = score\n",
        "print('max value:',M,'min value:',m)"
      ],
      "execution_count": 6,
      "outputs": [
        {
          "output_type": "stream",
          "text": [
            "max value: 90 min value: 20\n"
          ],
          "name": "stdout"
        }
      ]
    },
    {
      "cell_type": "markdown",
      "metadata": {
        "id": "m4FbzAQGX9v8"
      },
      "source": [
        "## Normalization"
      ]
    },
    {
      "cell_type": "code",
      "metadata": {
        "colab": {
          "base_uri": "https://localhost:8080/"
        },
        "id": "Ha2uDZO3YAPj",
        "outputId": "ce6a773e-88c5-4237-cd2f-120b6f87904e"
      },
      "source": [
        "scores = [-20,60,40,-70,120]\n",
        "\n",
        "M,m = scores[0],scores[0]\n",
        "\n",
        "for score in scores:\n",
        "    if score > M:\n",
        "        M = score\n",
        "    if score < m:\n",
        "        m = score\n",
        "\n",
        "print(f'M: {M}, m: {m}')\n",
        "\n",
        "for score_idx in range(len(scores)):\n",
        "    scores[score_idx] = (scores[score_idx]-m)/(M-m)\n",
        "\n",
        "print('scores after normalization: ',scores)\n",
        "\n",
        "M,m = scores[0],scores[0]\n",
        "\n",
        "for score in scores:\n",
        "    if score >= M:\n",
        "        M = score\n",
        "    if score <= m:\n",
        "        m = score\n",
        "\n",
        "print('Max after normalization: ',M)\n",
        "print('min after normalization: ',m)"
      ],
      "execution_count": 7,
      "outputs": [
        {
          "output_type": "stream",
          "text": [
            "M: 120, m: -70\n",
            "scores after normalization:  [0.2631578947368421, 0.6842105263157895, 0.5789473684210527, 0.0, 1.0]\n",
            "Max after normalization:  1.0\n",
            "min after normalization:  0.0\n"
          ],
          "name": "stdout"
        }
      ]
    },
    {
      "cell_type": "markdown",
      "metadata": {
        "id": "8JK3l4d3YC64"
      },
      "source": [
        "## 최댓값,최솟값 위치 구하기"
      ]
    },
    {
      "cell_type": "code",
      "metadata": {
        "colab": {
          "base_uri": "https://localhost:8080/"
        },
        "id": "-F7mHIZHYM_C",
        "outputId": "92e8b90e-4d8a-43eb-c9da-523c7634de94"
      },
      "source": [
        "scores = [60,-20,40,120,70]\n",
        "M,m  = scores[0],scores[0]\n",
        "M_idx,m_idx = 0,0\n",
        "\n",
        "for score_idx in range(len(scores)):\n",
        "    if  scores[score_idx] > M:\n",
        "        M = scores[score_idx]\n",
        "        M_idx = score_idx\n",
        "    if scores[score_idx] < m:\n",
        "        m = scores[score_idx]\n",
        "        m_idx = score_idx\n",
        "\n",
        "print(f'M: {M}, M_idx: {M_idx}')\n",
        "print(f'm: {m}, m_idx: {m_idx}')"
      ],
      "execution_count": 8,
      "outputs": [
        {
          "output_type": "stream",
          "text": [
            "M: 120, M_idx: 3\n",
            "m: -20, m_idx: 1\n"
          ],
          "name": "stdout"
        }
      ]
    }
  ]
}