{
 "cells": [
  {
   "cell_type": "markdown",
   "id": "a74f7d28",
   "metadata": {},
   "source": [
    "## Vector Norm"
   ]
  },
  {
   "cell_type": "code",
   "execution_count": 2,
   "id": "f0238e40",
   "metadata": {},
   "outputs": [
    {
     "name": "stdout",
     "output_type": "stream",
     "text": [
      "Vector Norm:  3.7416573867739413\n"
     ]
    }
   ],
   "source": [
    "v = [1,2,3]\n",
    "square_sum = 0\n",
    "\n",
    "for dim_value in v:\n",
    "    square_sum += dim_value**2\n",
    "\n",
    "v_norm = square_sum**0.5\n",
    "print('Vector Norm: ',v_norm)"
   ]
  },
  {
   "cell_type": "markdown",
   "id": "5973917c",
   "metadata": {},
   "source": [
    "## Euclidean Distance"
   ]
  },
  {
   "cell_type": "code",
   "execution_count": 5,
   "id": "c41488ee",
   "metadata": {},
   "outputs": [
    {
     "name": "stdout",
     "output_type": "stream",
     "text": [
      "Euclidean Distance of v1 and v2:  15.588457268119896\n"
     ]
    }
   ],
   "source": [
    "v1,v2 = [1,2,3],[10,11,12]\n",
    "v_len = len(v1)\n",
    "diff_square_sum = 0\n",
    "\n",
    "for dim_idx in range(v_len):\n",
    "    diff_square_sum += (v1[dim_idx]-v2[dim_idx])**2\n",
    "\n",
    "e_distance = diff_square_sum**0.5\n",
    "\n",
    "print('Euclidean Distance of v1 and v2: ',e_distance)"
   ]
  },
  {
   "cell_type": "markdown",
   "id": "baac67c9",
   "metadata": {},
   "source": [
    "## Mean Squared Error"
   ]
  },
  {
   "cell_type": "code",
   "execution_count": 6,
   "id": "6390f5ca",
   "metadata": {},
   "outputs": [
    {
     "name": "stdout",
     "output_type": "stream",
     "text": [
      "MSE of data:  41.666666666666664\n"
     ]
    }
   ],
   "source": [
    "prediction = [10,20,30]\n",
    "labels = [10,25,40]\n",
    "n_data = len(labels)\n",
    "\n",
    "diff_square_sum = 0\n",
    "for data_idx in range(n_data):\n",
    "    diff_square_sum += (prediction[data_idx]-labels[data_idx])**2\n",
    "\n",
    "mse = diff_square_sum/n_data\n",
    "print('MSE of data: ',mse)"
   ]
  }
 ],
 "metadata": {
  "kernelspec": {
   "display_name": "Python 3",
   "language": "python",
   "name": "python3"
  },
  "language_info": {
   "codemirror_mode": {
    "name": "ipython",
    "version": 3
   },
   "file_extension": ".py",
   "mimetype": "text/x-python",
   "name": "python",
   "nbconvert_exporter": "python",
   "pygments_lexer": "ipython3",
   "version": "3.8.0"
  }
 },
 "nbformat": 4,
 "nbformat_minor": 5
}
