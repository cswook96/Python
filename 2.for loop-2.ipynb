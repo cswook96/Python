{
 "cells": [
  {
   "cell_type": "markdown",
   "id": "96892f02",
   "metadata": {},
   "source": [
    "# Standardization"
   ]
  },
  {
   "cell_type": "code",
   "execution_count": 4,
   "id": "ded61aa8",
   "metadata": {},
   "outputs": [
    {
     "name": "stdout",
     "output_type": "stream",
     "text": [
      "mean before standardization:  20.0\n",
      "variance before standardization:  66.66666666666669\n",
      "mean before standardization:  8.16496580927726\n"
     ]
    }
   ],
   "source": [
    "#before standardization\n",
    "\n",
    "scores = [10,20,30]\n",
    "n_student = len(scores)\n",
    "\n",
    "score_sum,score_square_sum = 0,0\n",
    "\n",
    "for score in scores:\n",
    "    score_sum += score\n",
    "    score_square_sum += score**2\n",
    "\n",
    "mean = score_sum/n_student\n",
    "variance = score_square_sum/n_student - mean**2\n",
    "std = variance**0.5\n",
    "\n",
    "print('mean before standardization: ', mean)\n",
    "print('variance before standardization: ', variance)\n",
    "print('mean before standardization: ', std)"
   ]
  },
  {
   "cell_type": "code",
   "execution_count": 5,
   "id": "ce9f77bb",
   "metadata": {},
   "outputs": [
    {
     "name": "stdout",
     "output_type": "stream",
     "text": [
      "scores after standardization:  [-1.224744871391589, 0.0, 1.224744871391589]\n"
     ]
    }
   ],
   "source": [
    "# standardization\n",
    "\n",
    "for student_idx in range(n_student):\n",
    "    scores[student_idx] = (scores[student_idx]-mean)/std\n",
    "\n",
    "print('scores after standardization: ',scores)"
   ]
  },
  {
   "cell_type": "code",
   "execution_count": 6,
   "id": "8c27c321",
   "metadata": {},
   "outputs": [
    {
     "name": "stdout",
     "output_type": "stream",
     "text": [
      "mean after standardization:  0.0\n",
      "variance after standardization:  0.9999999999999999\n",
      "mean after standardization:  1.0\n"
     ]
    }
   ],
   "source": [
    "# after standardization\n",
    "\n",
    "score_sum,score_square_sum = 0,0\n",
    "\n",
    "for score in scores:\n",
    "    score_sum += score\n",
    "    score_square_sum += score**2\n",
    "\n",
    "mean = score_sum/n_student\n",
    "variance = score_square_sum/n_student - mean**2\n",
    "std = variance**0.5\n",
    "\n",
    "print('mean after standardization: ', mean)\n",
    "print('variance after standardization: ', variance)\n",
    "print('mean after standardization: ', std)"
   ]
  }
 ],
 "metadata": {
  "kernelspec": {
   "display_name": "Python 3",
   "language": "python",
   "name": "python3"
  },
  "language_info": {
   "codemirror_mode": {
    "name": "ipython",
    "version": 3
   },
   "file_extension": ".py",
   "mimetype": "text/x-python",
   "name": "python",
   "nbconvert_exporter": "python",
   "pygments_lexer": "ipython3",
   "version": "3.8.0"
  }
 },
 "nbformat": 4,
 "nbformat_minor": 5
}
